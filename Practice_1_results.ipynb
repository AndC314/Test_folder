{
  "nbformat": 4,
  "nbformat_minor": 0,
  "metadata": {
    "colab": {
      "name": "Practice-1.ipynb",
      "provenance": [],
      "authorship_tag": "ABX9TyNK6BXwqWAmXrk4D2KZyf1d",
      "include_colab_link": true
    },
    "kernelspec": {
      "name": "python3",
      "display_name": "Python 3"
    },
    "language_info": {
      "name": "python"
    }
  },
  "cells": [
    {
      "cell_type": "markdown",
      "metadata": {
        "id": "view-in-github",
        "colab_type": "text"
      },
      "source": [
        "<a href=\"https://colab.research.google.com/github/AndC314/Test_folder/blob/main/Practice_1_results.ipynb\" target=\"_parent\"><img src=\"https://colab.research.google.com/assets/colab-badge.svg\" alt=\"Open In Colab\"/></a>"
      ]
    },
    {
      "cell_type": "code",
      "metadata": {
        "id": "F-ETkne-BMNQ"
      },
      "source": [
        "import pandas as pd\n",
        "import numpy as np\n",
        "import seaborn as sns\n",
        "\n",
        "import matplotlib.pyplot as plt\n",
        "from sklearn.datasets import make_friedman2\n",
        "\n",
        "from sklearn.linear_model import LinearRegression\n",
        "from sklearn.preprocessing import StandardScaler\n",
        "from sklearn.model_selection import train_test_split"
      ],
      "execution_count": 110,
      "outputs": []
    },
    {
      "cell_type": "code",
      "metadata": {
        "id": "aeRlKNpnBpAp"
      },
      "source": [
        "## dataset generation\n",
        "X, y = make_friedman2(n_samples=200, noise=1, random_state=42)\n",
        "df = pd.DataFrame(X, columns = ['Temperature','Energy','Torque','Gap'])\n",
        "X_train, X_test, y_train, y_test = train_test_split(X, y, random_state=42, test_size=0.4)\n",
        "## model to use\n",
        "lr = LinearRegression()"
      ],
      "execution_count": 111,
      "outputs": []
    },
    {
      "cell_type": "markdown",
      "metadata": {
        "id": "uOTk36Sycade"
      },
      "source": [
        "The dataset has been generated with an array of features X and the output y. \n",
        "\n",
        "The task is to:\n",
        "\n",
        "1.   Create a simple linear model to predict y\n",
        "2.   Evaluate feature importances\n",
        "3. Improve the results\n",
        "\n",
        "\n",
        "Some libraries are imported but feel free to use whatever you think is best.\n"
      ]
    },
    {
      "cell_type": "markdown",
      "metadata": {
        "id": "6Tx2woHX0HRH"
      },
      "source": [
        "Fit the model on train dataset and calculate score (R2) on test dataset. The score on training is slighty higher than test set, as expected since the model has been created with that data. However the model seems to generalize well on test set."
      ]
    },
    {
      "cell_type": "markdown",
      "metadata": {
        "id": "wVsVtvck1fS1"
      },
      "source": [
        "# 1 Create model to predict y"
      ]
    },
    {
      "cell_type": "code",
      "metadata": {
        "colab": {
          "base_uri": "https://localhost:8080/"
        },
        "id": "tQTepw0mta-2",
        "outputId": "fefe71ff-16df-4997-b583-6e26f09abfa6"
      },
      "source": [
        "lr.fit(X_train, y_train)\n",
        "lr.score(X_train, y_train), lr.score(X_test, y_test)"
      ],
      "execution_count": 112,
      "outputs": [
        {
          "output_type": "execute_result",
          "data": {
            "text/plain": [
              "(0.8785474009945631, 0.8477565001755369)"
            ]
          },
          "metadata": {
            "tags": []
          },
          "execution_count": 112
        }
      ]
    },
    {
      "cell_type": "code",
      "metadata": {
        "id": "n7xJUo040tAv",
        "outputId": "5e041d94-9b1a-4c41-b9b5-c67ad73367de",
        "colab": {
          "base_uri": "https://localhost:8080/"
        }
      },
      "source": [
        "dir(lr)"
      ],
      "execution_count": 113,
      "outputs": [
        {
          "output_type": "execute_result",
          "data": {
            "text/plain": [
              "['__abstractmethods__',\n",
              " '__class__',\n",
              " '__delattr__',\n",
              " '__dict__',\n",
              " '__dir__',\n",
              " '__doc__',\n",
              " '__eq__',\n",
              " '__format__',\n",
              " '__ge__',\n",
              " '__getattribute__',\n",
              " '__getstate__',\n",
              " '__gt__',\n",
              " '__hash__',\n",
              " '__init__',\n",
              " '__init_subclass__',\n",
              " '__le__',\n",
              " '__lt__',\n",
              " '__module__',\n",
              " '__ne__',\n",
              " '__new__',\n",
              " '__reduce__',\n",
              " '__reduce_ex__',\n",
              " '__repr__',\n",
              " '__setattr__',\n",
              " '__setstate__',\n",
              " '__sizeof__',\n",
              " '__str__',\n",
              " '__subclasshook__',\n",
              " '__weakref__',\n",
              " '_abc_impl',\n",
              " '_decision_function',\n",
              " '_estimator_type',\n",
              " '_get_param_names',\n",
              " '_get_tags',\n",
              " '_more_tags',\n",
              " '_preprocess_data',\n",
              " '_residues',\n",
              " '_set_intercept',\n",
              " 'coef_',\n",
              " 'copy_X',\n",
              " 'fit',\n",
              " 'fit_intercept',\n",
              " 'get_params',\n",
              " 'intercept_',\n",
              " 'n_jobs',\n",
              " 'normalize',\n",
              " 'predict',\n",
              " 'rank_',\n",
              " 'score',\n",
              " 'set_params',\n",
              " 'singular_']"
            ]
          },
          "metadata": {
            "tags": []
          },
          "execution_count": 113
        }
      ]
    },
    {
      "cell_type": "markdown",
      "metadata": {
        "id": "mumMI1Ly1itL"
      },
      "source": [
        "# 2 Evaluate feature importances"
      ]
    },
    {
      "cell_type": "markdown",
      "metadata": {
        "id": "KQp_Gvvf0hY-"
      },
      "source": [
        "In order to see the coefficients (feature importances) of the linear regression we plot them using lr.coef_ (with dir(lr) we find all possible attributes and method of the class LinearRegression)"
      ]
    },
    {
      "cell_type": "code",
      "metadata": {
        "colab": {
          "base_uri": "https://localhost:8080/",
          "height": 265
        },
        "id": "voNHdh1zurea",
        "outputId": "75e67155-6933-43da-b35b-a00e9b01fe4e"
      },
      "source": [
        "sns.barplot(x=list(df), y=lr.coef_);"
      ],
      "execution_count": 114,
      "outputs": [
        {
          "output_type": "display_data",
          "data": {
            "image/png": "[encoded data removed]",
            "text/plain": [
              "<Figure size 432x288 with 1 Axes>"
            ]
          },
          "metadata": {
            "tags": [],
            "needs_background": "light"
          }
        }
      ]
    },
    {
      "cell_type": "markdown",
      "metadata": {
        "id": "qCXrwytZ1DHu"
      },
      "source": [
        "The coefficients are relative to the original scale. Another way to see the results is to scale every variable down to the same range, a possibility is using standardscaler."
      ]
    },
    {
      "cell_type": "code",
      "metadata": {
        "id": "bCufxuBEuv9g"
      },
      "source": [
        "sc = StandardScaler()\n",
        "X_std = sc.fit_transform(X_train)\n",
        "X_tstd = sc.transform(X_test)"
      ],
      "execution_count": 115,
      "outputs": []
    },
    {
      "cell_type": "code",
      "metadata": {
        "colab": {
          "base_uri": "https://localhost:8080/"
        },
        "id": "Lx5n5aF4vHq1",
        "outputId": "8b5ccc2c-8653-42e8-a74d-dc524a5425f4"
      },
      "source": [
        "lr.fit(X_std, y_train)\n",
        "lr.score(X_tstd, y_test)"
      ],
      "execution_count": 116,
      "outputs": [
        {
          "output_type": "execute_result",
          "data": {
            "text/plain": [
              "0.8477565001755367"
            ]
          },
          "metadata": {
            "tags": []
          },
          "execution_count": 116
        }
      ]
    },
    {
      "cell_type": "code",
      "metadata": {
        "colab": {
          "base_uri": "https://localhost:8080/",
          "height": 286
        },
        "id": "EOohptEBvK7N",
        "outputId": "6f4ffcb4-558f-4a56-83f3-b677d18a5c73"
      },
      "source": [
        "sns.barplot(x=list(df), y=lr.coef_)"
      ],
      "execution_count": 117,
      "outputs": [
        {
          "output_type": "execute_result",
          "data": {
            "text/plain": [
              "<matplotlib.axes._subplots.AxesSubplot at 0x7f21aacffed0>"
            ]
          },
          "metadata": {
            "tags": []
          },
          "execution_count": 117
        },
        {
          "output_type": "display_data",
          "data": {
            "image/png": "[encoded data removed]",
            "text/plain": [
              "<Figure size 432x288 with 1 Axes>"
            ]
          },
          "metadata": {
            "tags": [],
            "needs_background": "light"
          }
        }
      ]
    },
    {
      "cell_type": "markdown",
      "metadata": {
        "id": "UTB9f0JC1V2b"
      },
      "source": [
        "It is clear now that Energy and Torque are by far the most important features, while Temperature and Gap have marginal contribution."
      ]
    },
    {
      "cell_type": "markdown",
      "metadata": {
        "id": "PAo4Pqjd1l5T"
      },
      "source": [
        "# 3. Improve the result"
      ]
    },
    {
      "cell_type": "markdown",
      "metadata": {
        "id": "FVZuzED71obN"
      },
      "source": [
        "to improve the result we can try to add some non linear features: for example the interactions between the variables: Temperature * Energy and so on."
      ]
    },
    {
      "cell_type": "code",
      "metadata": {
        "colab": {
          "base_uri": "https://localhost:8080/",
          "height": 195
        },
        "id": "9gIOvJX6xDJ8",
        "outputId": "1b56188b-af5b-4c7b-a3e5-e9c372cc115e"
      },
      "source": [
        "df = pd.DataFrame(X, columns = ['Temperature','Energy','Torque','Gap'])\n",
        "df['1^2'] = df['Temperature']*df['Temperature']\n",
        "df['1-2'] = df['Temperature']*df['Energy']\n",
        "df['2-3'] = df['Energy']*df['Torque']\n",
        "df.head()"
      ],
      "execution_count": 155,
      "outputs": [
        {
          "output_type": "execute_result",
          "data": {
            "text/html": [
              "<div>\n",
              "<style scoped>\n",
              "    .dataframe tbody tr th:only-of-type {\n",
              "        vertical-align: middle;\n",
              "    }\n",
              "\n",
              "    .dataframe tbody tr th {\n",
              "        vertical-align: top;\n",
              "    }\n",
              "\n",
              "    .dataframe thead th {\n",
              "        text-align: right;\n",
              "    }\n",
              "</style>\n",
              "<table border=\"1\" class=\"dataframe\">\n",
              "  <thead>\n",
              "    <tr style=\"text-align: right;\">\n",
              "      <th></th>\n",
              "      <th>Temperature</th>\n",
              "      <th>Energy</th>\n",
              "      <th>Torque</th>\n",
              "      <th>Gap</th>\n",
              "      <th>1^2</th>\n",
              "      <th>1-2</th>\n",
              "      <th>2-3</th>\n",
              "    </tr>\n",
              "  </thead>\n",
              "  <tbody>\n",
              "    <tr>\n",
              "      <th>0</th>\n",
              "      <td>37.454012</td>\n",
              "      <td>1678.777388</td>\n",
              "      <td>0.731994</td>\n",
              "      <td>6.986585</td>\n",
              "      <td>1402.803006</td>\n",
              "      <td>62876.948246</td>\n",
              "      <td>1228.854878</td>\n",
              "    </tr>\n",
              "    <tr>\n",
              "      <th>1</th>\n",
              "      <td>15.601864</td>\n",
              "      <td>380.500750</td>\n",
              "      <td>0.058084</td>\n",
              "      <td>9.661761</td>\n",
              "      <td>243.418162</td>\n",
              "      <td>5936.520978</td>\n",
              "      <td>22.100858</td>\n",
              "    </tr>\n",
              "    <tr>\n",
              "      <th>2</th>\n",
              "      <td>60.111501</td>\n",
              "      <td>1282.391023</td>\n",
              "      <td>0.020584</td>\n",
              "      <td>10.699099</td>\n",
              "      <td>3613.392573</td>\n",
              "      <td>77086.449462</td>\n",
              "      <td>26.397371</td>\n",
              "    </tr>\n",
              "    <tr>\n",
              "      <th>3</th>\n",
              "      <td>83.244264</td>\n",
              "      <td>472.546861</td>\n",
              "      <td>0.181825</td>\n",
              "      <td>2.834045</td>\n",
              "      <td>6929.607502</td>\n",
              "      <td>39336.815690</td>\n",
              "      <td>85.920818</td>\n",
              "    </tr>\n",
              "    <tr>\n",
              "      <th>4</th>\n",
              "      <td>30.424224</td>\n",
              "      <td>982.920600</td>\n",
              "      <td>0.431945</td>\n",
              "      <td>3.912291</td>\n",
              "      <td>925.633424</td>\n",
              "      <td>29904.596812</td>\n",
              "      <td>424.567657</td>\n",
              "    </tr>\n",
              "  </tbody>\n",
              "</table>\n",
              "</div>"
            ],
            "text/plain": [
              "   Temperature       Energy    Torque  ...          1^2           1-2          2-3\n",
              "0    37.454012  1678.777388  0.731994  ...  1402.803006  62876.948246  1228.854878\n",
              "1    15.601864   380.500750  0.058084  ...   243.418162   5936.520978    22.100858\n",
              "2    60.111501  1282.391023  0.020584  ...  3613.392573  77086.449462    26.397371\n",
              "3    83.244264   472.546861  0.181825  ...  6929.607502  39336.815690    85.920818\n",
              "4    30.424224   982.920600  0.431945  ...   925.633424  29904.596812   424.567657\n",
              "\n",
              "[5 rows x 7 columns]"
            ]
          },
          "metadata": {
            "tags": []
          },
          "execution_count": 155
        }
      ]
    },
    {
      "cell_type": "code",
      "metadata": {
        "id": "u95SqO7IxFCP"
      },
      "source": [
        "\n",
        "# in order to check if the model can generalize well, we must split it in train and test set\n",
        "X_train_p, X_test_p, y_train_p, y_test_p = train_test_split(df, y, random_state=42, test_size=0.4) \n",
        "X_std_p = sc.fit_transform(X_train_p)\n",
        "X_tstd_p = sc.transform(X_test_p)"
      ],
      "execution_count": 156,
      "outputs": []
    },
    {
      "cell_type": "code",
      "metadata": {
        "colab": {
          "base_uri": "https://localhost:8080/"
        },
        "id": "Ir3rhpmNxZXR",
        "outputId": "29a4180d-cabb-4651-eca0-62acb14d57e9"
      },
      "source": [
        "lr.fit(X_std_p, y_train)\n",
        "lr.score(X_std_p, y_train), lr.score(X_tstd_p, y_test)"
      ],
      "execution_count": 157,
      "outputs": [
        {
          "output_type": "execute_result",
          "data": {
            "text/plain": [
              "(0.999631123388862, 0.9996738926737754)"
            ]
          },
          "metadata": {
            "tags": []
          },
          "execution_count": 157
        }
      ]
    },
    {
      "cell_type": "code",
      "metadata": {
        "colab": {
          "base_uri": "https://localhost:8080/",
          "height": 282
        },
        "id": "YWSGP1_QxwdJ",
        "outputId": "d7b8a0ac-717b-41c5-b726-501884b03607"
      },
      "source": [
        "sns.barplot(x=list(df), y=lr.coef_)"
      ],
      "execution_count": 158,
      "outputs": [
        {
          "output_type": "execute_result",
          "data": {
            "text/plain": [
              "<matplotlib.axes._subplots.AxesSubplot at 0x7f21aadbc190>"
            ]
          },
          "metadata": {
            "tags": []
          },
          "execution_count": 158
        },
        {
          "output_type": "display_data",
          "data": {
            "image/png": "[encoded data removed]",
            "text/plain": [
              "<Figure size 432x288 with 1 Axes>"
            ]
          },
          "metadata": {
            "tags": [],
            "needs_background": "light"
          }
        }
      ]
    },
    {
      "cell_type": "markdown",
      "metadata": {
        "id": "QZWIYrLb35lJ"
      },
      "source": [
        "## another option with arrays instead of dataframe"
      ]
    },
    {
      "cell_type": "code",
      "metadata": {
        "id": "tN-G7dzB2OBH",
        "outputId": "7420a5fe-63b5-487f-f505-86d3de54e247",
        "colab": {
          "base_uri": "https://localhost:8080/"
        }
      },
      "source": [
        "X.shape"
      ],
      "execution_count": 159,
      "outputs": [
        {
          "output_type": "execute_result",
          "data": {
            "text/plain": [
              "(200, 4)"
            ]
          },
          "metadata": {
            "tags": []
          },
          "execution_count": 159
        }
      ]
    },
    {
      "cell_type": "code",
      "metadata": {
        "id": "9V4yvu1p2VQN",
        "outputId": "51fdba83-ad0e-41d3-d423-f99091bff61b",
        "colab": {
          "base_uri": "https://localhost:8080/"
        }
      },
      "source": [
        "x02 = X[:,1]*X[:,2]\n",
        "X2 = np.c_[X,x02]\n",
        "X_train, X_test, y_train, y_test = train_test_split(X2, y, random_state=42, test_size=0.4)\n",
        "lr.fit(X_train, y_train)\n",
        "lr.score(X_train, y_train), lr.score(X_test, y_test)"
      ],
      "execution_count": 160,
      "outputs": [
        {
          "output_type": "execute_result",
          "data": {
            "text/plain": [
              "(0.9995062182445175, 0.9996898686470198)"
            ]
          },
          "metadata": {
            "tags": []
          },
          "execution_count": 160
        }
      ]
    },
    {
      "cell_type": "code",
      "metadata": {
        "id": "MDCBLetH4Yfg"
      },
      "source": [
        ""
      ],
      "execution_count": null,
      "outputs": []
    }
  ]
}