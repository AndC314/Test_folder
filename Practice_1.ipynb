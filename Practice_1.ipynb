{
  "nbformat": 4,
  "nbformat_minor": 0,
  "metadata": {
    "colab": {
      "name": "Practice-1.ipynb",
      "provenance": [],
      "authorship_tag": "ABX9TyP1iA47vzBRJSWM0Dzx9DIn",
      "include_colab_link": true
    },
    "kernelspec": {
      "name": "python3",
      "display_name": "Python 3"
    },
    "language_info": {
      "name": "python"
    }
  },
  "cells": [
    {
      "cell_type": "markdown",
      "metadata": {
        "id": "view-in-github",
        "colab_type": "text"
      },
      "source": [
        "<a href=\"https://colab.research.google.com/github/AndC314/Test_folder/blob/main/Practice_1.ipynb\" target=\"_parent\"><img src=\"https://colab.research.google.com/assets/colab-badge.svg\" alt=\"Open In Colab\"/></a>"
      ]
    },
    {
      "cell_type": "code",
      "metadata": {
        "id": "F-ETkne-BMNQ"
      },
      "source": [
        "import pandas as pd\n",
        "import numpy as np\n",
        "import seaborn as sns\n",
        "\n",
        "import matplotlib.pyplot as plt\n",
        "from sklearn.datasets import make_friedman2\n",
        "\n",
        "from sklearn.linear_model import LinearRegression\n",
        "from sklearn.preprocessing import StandardScaler\n",
        "from sklearn.model_selection import train_test_split"
      ],
      "execution_count": 1,
      "outputs": []
    },
    {
      "cell_type": "code",
      "metadata": {
        "id": "aeRlKNpnBpAp"
      },
      "source": [
        "## dataset generation\n",
        "X, y = make_friedman2(n_samples=200, noise=1, random_state=42)\n",
        "df = pd.DataFrame(X, columns = ['Temperature','Energy','Torque','Gap'])\n",
        "X_train, X_test, y_train, y_test = train_test_split(X, y, random_state=42, test_size=0.4)\n",
        "## model to use\n",
        "lr = LinearRegression()"
      ],
      "execution_count": 2,
      "outputs": []
    },
    {
      "cell_type": "markdown",
      "metadata": {
        "id": "uOTk36Sycade"
      },
      "source": [
        "The dataset has been generated with an array of features X and the output y. \n",
        "\n",
        "The task is to:\n",
        "\n",
        "1.   Create a simple linear model to predict y\n",
        "2.   Evaluate feature importances\n",
        "3. Improve the results\n",
        "\n",
        "\n",
        "Some libraries are imported but feel free to use whatever you think is best.\n"
      ]
    },
    {
      "cell_type": "code",
      "metadata": {
        "id": "n-PAXRF3Gg7C",
        "outputId": "f16ebd5d-ceaa-4a92-bb21-a86aa53dcdea",
        "colab": {
          "base_uri": "https://localhost:8080/",
          "height": 195
        }
      },
      "source": [
        "df.head()"
      ],
      "execution_count": 3,
      "outputs": [
        {
          "output_type": "execute_result",
          "data": {
            "text/html": [
              "<div>\n",
              "<style scoped>\n",
              "    .dataframe tbody tr th:only-of-type {\n",
              "        vertical-align: middle;\n",
              "    }\n",
              "\n",
              "    .dataframe tbody tr th {\n",
              "        vertical-align: top;\n",
              "    }\n",
              "\n",
              "    .dataframe thead th {\n",
              "        text-align: right;\n",
              "    }\n",
              "</style>\n",
              "<table border=\"1\" class=\"dataframe\">\n",
              "  <thead>\n",
              "    <tr style=\"text-align: right;\">\n",
              "      <th></th>\n",
              "      <th>Temperature</th>\n",
              "      <th>Energy</th>\n",
              "      <th>Torque</th>\n",
              "      <th>Gap</th>\n",
              "    </tr>\n",
              "  </thead>\n",
              "  <tbody>\n",
              "    <tr>\n",
              "      <th>0</th>\n",
              "      <td>37.454012</td>\n",
              "      <td>1678.777388</td>\n",
              "      <td>0.731994</td>\n",
              "      <td>6.986585</td>\n",
              "    </tr>\n",
              "    <tr>\n",
              "      <th>1</th>\n",
              "      <td>15.601864</td>\n",
              "      <td>380.500750</td>\n",
              "      <td>0.058084</td>\n",
              "      <td>9.661761</td>\n",
              "    </tr>\n",
              "    <tr>\n",
              "      <th>2</th>\n",
              "      <td>60.111501</td>\n",
              "      <td>1282.391023</td>\n",
              "      <td>0.020584</td>\n",
              "      <td>10.699099</td>\n",
              "    </tr>\n",
              "    <tr>\n",
              "      <th>3</th>\n",
              "      <td>83.244264</td>\n",
              "      <td>472.546861</td>\n",
              "      <td>0.181825</td>\n",
              "      <td>2.834045</td>\n",
              "    </tr>\n",
              "    <tr>\n",
              "      <th>4</th>\n",
              "      <td>30.424224</td>\n",
              "      <td>982.920600</td>\n",
              "      <td>0.431945</td>\n",
              "      <td>3.912291</td>\n",
              "    </tr>\n",
              "  </tbody>\n",
              "</table>\n",
              "</div>"
            ],
            "text/plain": [
              "   Temperature       Energy    Torque        Gap\n",
              "0    37.454012  1678.777388  0.731994   6.986585\n",
              "1    15.601864   380.500750  0.058084   9.661761\n",
              "2    60.111501  1282.391023  0.020584  10.699099\n",
              "3    83.244264   472.546861  0.181825   2.834045\n",
              "4    30.424224   982.920600  0.431945   3.912291"
            ]
          },
          "metadata": {
            "tags": []
          },
          "execution_count": 3
        }
      ]
    },
    {
      "cell_type": "markdown",
      "metadata": {
        "id": "wVsVtvck1fS1"
      },
      "source": [
        "# 1 Create model to predict y"
      ]
    },
    {
      "cell_type": "code",
      "metadata": {
        "id": "lk0x5LjGGclW"
      },
      "source": [
        "## code here"
      ],
      "execution_count": null,
      "outputs": []
    },
    {
      "cell_type": "markdown",
      "metadata": {
        "id": "mumMI1Ly1itL"
      },
      "source": [
        "# 2 Evaluate feature importances"
      ]
    },
    {
      "cell_type": "code",
      "metadata": {
        "id": "cLQ3hD4YGdEo"
      },
      "source": [
        "## code here"
      ],
      "execution_count": null,
      "outputs": []
    },
    {
      "cell_type": "markdown",
      "metadata": {
        "id": "PAo4Pqjd1l5T"
      },
      "source": [
        "# 3. Improve the result"
      ]
    },
    {
      "cell_type": "code",
      "metadata": {
        "id": "MDCBLetH4Yfg"
      },
      "source": [
        "## code here"
      ],
      "execution_count": null,
      "outputs": []
    }
  ]
}